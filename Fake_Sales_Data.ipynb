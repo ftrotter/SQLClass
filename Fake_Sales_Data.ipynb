{
  "nbformat": 4,
  "nbformat_minor": 0,
  "metadata": {
    "colab": {
      "name": "Fake Sales Data",
      "provenance": [],
      "authorship_tag": "ABX9TyPSE7V5aIk2F9lnbhKdKVgK",
      "include_colab_link": true
    },
    "kernelspec": {
      "name": "python3",
      "display_name": "Python 3"
    },
    "language_info": {
      "name": "python"
    }
  },
  "cells": [
    {
      "cell_type": "markdown",
      "metadata": {
        "id": "view-in-github",
        "colab_type": "text"
      },
      "source": [
        "<a href=\"https://colab.research.google.com/github/ftrotter/SQLClass/blob/main/Fake_Sales_Data.ipynb\" target=\"_parent\"><img src=\"https://colab.research.google.com/assets/colab-badge.svg\" alt=\"Open In Colab\"/></a>"
      ]
    },
    {
      "cell_type": "code",
      "execution_count": null,
      "metadata": {
        "id": "upiW52J3ySqp",
        "colab": {
          "base_uri": "https://localhost:8080/"
        },
        "outputId": "21cbbd3c-fc8b-4e1e-81fd-3edf039e2d74"
      },
      "outputs": [
        {
          "metadata": {
            "tags": null
          },
          "name": "stdout",
          "output_type": "stream",
          "text": [
            "Requirement already satisfied: faker in /usr/local/lib/python3.7/dist-packages (13.3.4)\n",
            "Requirement already satisfied: typing-extensions>=3.10.0.2 in /usr/local/lib/python3.7/dist-packages (from faker) (4.1.1)\n",
            "Requirement already satisfied: python-dateutil>=2.4 in /usr/local/lib/python3.7/dist-packages (from faker) (2.8.2)\n",
            "Requirement already satisfied: six>=1.5 in /usr/local/lib/python3.7/dist-packages (from python-dateutil>=2.4->faker) (1.15.0)\n",
            "Requirement already satisfied: pymysql in /usr/local/lib/python3.7/dist-packages (1.0.2)\n",
            "Russell Boyle\n",
            "Dustin Ortega\n"
          ]
        }
      ],
      "source": [
        "!pip install faker\n",
        "!pip install pymysql\n",
        "import sqlalchemy\n",
        "import pandas as pd\n",
        "import getpass\n",
        "import faker\n",
        "import random\n",
        "from datetime import datetime\n",
        "\n",
        "from faker import Faker\n",
        "fake = Faker()\n",
        "\n",
        "the_year = 2021\n",
        "\n",
        "sales_people_count = 2 \n",
        "avg_calls_per_day = 15\n",
        "\n",
        "passwd = getpass.getpass('  enter the cardremote db password:')\n",
        "hostname = getpass.getpass('  enter the hostname:')\n",
        "\n",
        "engine = sqlalchemy.create_engine('mysql+pymysql://collab:' + passwd + '@' + hostname +'.set.care:3306/selling')\n",
        "\n",
        "\n",
        "\n",
        "# given a day of the week, randomly determine how many calls were made that day\n",
        "def random_sales_this_day_of_week(day_of_week_num):\n",
        "  if day_of_week_num == 3 or day_of_week_num == 4:\n",
        "    return(0)\n",
        "  else: \n",
        "    return(random.randrange(10,25))\n",
        "\n",
        "\n",
        "# Given a number of calls per day, randomly determine how many of them should succeed.\n",
        "def random_successful_calls(total_calls):\n",
        "  return(round((total_calls * random.randrange(0,100))/100))\n",
        "\n",
        "\n",
        "# Given a day of the week... randomly decide if a given call worked\n",
        "def did_this_call_work(day_of_week):\n",
        "\n",
        "  threshold = 40\n",
        "  if day_of_week == 3 or day_of_week == 4:\n",
        "    threshold = 10\n",
        "  chance = random.randrange(0,100)\n",
        "  if chance > threshold: \n",
        "    return(True)\n",
        "  else:\n",
        "    return(False)\n",
        "\n",
        "\n",
        "\n",
        "#Loop over all of the sales people\n",
        "while sales_people_count > 0:\n",
        "\n",
        "  sales_person_name = fake.name() \n",
        "  print(sales_person_name)\n",
        "\n",
        "  year_day = 365\n",
        "\n",
        "\n",
        "  # Save the given sales person here... \n",
        "  save_salesperson_sql = f\"\"\"\n",
        "INSERT INTO selling.saleperson \n",
        "  (`id`, `salesperson_name`, `created_at`, `updated_at`) \n",
        "VALUES \n",
        "  (NULL, '{sales_person_name}', current_timestamp(), current_timestamp());\n",
        "\n",
        "\"\"\"\n",
        "\n",
        "  lastresult = engine.execute(save_salesperson_sql)\n",
        "  salesperson_id = lastresult.lastrowid\n",
        "\n",
        "  # And retain the id of the record for later use.\n",
        "\n",
        "  # Loop over all of the days in a year... \n",
        "  while year_day > 0: \n",
        "    # = datetime.date(the_year, 1, 1) + datetime.timedelta(year_day - 1)\n",
        "    d = datetime.strptime(str(the_year) + \"-\" + str(year_day), \"%Y-%j\")\n",
        "\n",
        "\n",
        "\n",
        "\n",
        "    day_of_the_week = d.weekday()\n",
        "\n",
        "    year_day = year_day - 1\n",
        "\n",
        "    sales_calls_today = random_sales_this_day_of_week(day_of_the_week)\n",
        " \n",
        "    # loop over every individual sales call\n",
        "    while sales_calls_today > 0:\n",
        "      sales_calls_today = sales_calls_today - 1\n",
        "      if(did_this_call_work(day_of_the_week)):\n",
        "        is_call_worked = 1\n",
        "      else:\n",
        "        is_call_worked = 0\n",
        "\n",
        "      hour = random.randrange(7,19)\n",
        "      min = random.randrange(1,60)\n",
        "      seconds = random.randrange(1,60)\n",
        "\n",
        "      date_for_mysql = d.strftime('%Y-%m-%d') + f\" {hour}:{min}:{seconds}\"\n",
        "\n",
        "      insert_call_sql = f\"\"\"\n",
        "\n",
        "INSERT INTO selling.callevent \n",
        "  (`id`, `salesperson_id`, `is_call_success`, `call_timedate`)\n",
        "VALUES \n",
        "  (NULL, '{salesperson_id}', '{is_call_worked}', '{date_for_mysql}.000000');\n",
        "\n",
        "\"\"\"\n",
        "      lastresult = engine.execute(insert_call_sql)\n",
        "      #print(f\"person: {sales_person_name} date: {date_for_mysql} is_call_worked: {is_call_worked}  \")\n",
        "\n",
        "\n",
        "  sales_people_count = sales_people_count - 1\n",
        "\n",
        "\n",
        "\n"
      ]
    },
    {
      "cell_type": "code",
      "source": [
        ""
      ],
      "metadata": {
        "id": "Dr7gQKjTyytG"
      },
      "execution_count": null,
      "outputs": []
    },
    {
      "cell_type": "code",
      "source": [
        ""
      ],
      "metadata": {
        "id": "bF9i0JJKyy-j"
      },
      "execution_count": null,
      "outputs": []
    }
  ]
}